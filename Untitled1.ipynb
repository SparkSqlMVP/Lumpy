{
 "cells": [
  {
   "cell_type": "code",
   "execution_count": 4,
   "metadata": {},
   "outputs": [],
   "source": [
    "import os\n",
    "import cv2\n",
    "from PIL import Image\n",
    "import numpy as np\n",
    "recognizer = cv2.face.LBPHFaceRecognizer_create()\n",
    "path = 'sample pics'\n",
    "def get_image(path):\n",
    "    image_paths = [os.path.join(path,f) for f in os.listdir(path )]\n",
    "    ID = []\n",
    "    face = []\n",
    "    for image_path in image_paths:\n",
    "        face_img = Image.open(image_path).convert('L')\n",
    "        faceNp = np.array(face_img,'uint8')\n",
    "        id = int(os.path.split(image_path)[-1].split('.')[1])\n",
    "        ID.append(id)\n",
    "        face.append(faceNp)\n",
    "        cv2.imshow('trainer',faceNp)\n",
    "        cv2.waitKey(100)\n",
    "    return np.array(ID) , face\n",
    "\n",
    "ids, faces = get_image(path)\n",
    "\n",
    "recognizer.train(faces,ids)\n",
    "recognizer.write('recognizer/trainer.yml')\n",
    "cv2.destroyAllWindows()"
   ]
  },
  {
   "cell_type": "code",
   "execution_count": null,
   "metadata": {},
   "outputs": [],
   "source": []
  },
  {
   "cell_type": "code",
   "execution_count": null,
   "metadata": {},
   "outputs": [],
   "source": []
  }
 ],
 "metadata": {
  "kernelspec": {
   "display_name": "Python 3",
   "language": "python",
   "name": "python3"
  },
  "language_info": {
   "codemirror_mode": {
    "name": "ipython",
    "version": 3
   },
   "file_extension": ".py",
   "mimetype": "text/x-python",
   "name": "python",
   "nbconvert_exporter": "python",
   "pygments_lexer": "ipython3",
   "version": "3.6.4"
  }
 },
 "nbformat": 4,
 "nbformat_minor": 2
}
