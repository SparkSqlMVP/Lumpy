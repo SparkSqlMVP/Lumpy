{
 "cells": [
  {
   "cell_type": "code",
   "execution_count": 9,
   "metadata": {
    "scrolled": true
   },
   "outputs": [
    {
     "name": "stdout",
     "output_type": "stream",
     "text": [
      "enter your id: 3\n",
      "enter name for id 3 Sandy\n"
     ]
    }
   ],
   "source": [
    "import mysql\n",
    "from mysql.connector import Error\n",
    "import cv2\n",
    "face_detect = cv2.CascadeClassifier('haarcascade_frontalface_default.xml')\n",
    "camera = cv2.VideoCapture(1)\n",
    "def connect(id,name):\n",
    "    try:\n",
    "        \n",
    "\n",
    "        conn = mysql.connector.connect(user='root', password='38LRh430',\n",
    "                              host='127.0.0.1',\n",
    "                              database='facedb',\n",
    "                              use_pure=False)\n",
    "\n",
    "        \n",
    "        curr = conn.cursor()\n",
    "        #cmd = \"select * from user_t where id = \"+str(id)\n",
    "\n",
    "        values = str(id)+\", \\'\"+str(name)+\"'\"\n",
    "        cmd = \"insert into user_t(id,NAME) values (\" + values + \")\"\n",
    "        # print(cmd)\n",
    "        curr.execute(cmd)\n",
    "        conn.commit()\n",
    "    except Error as e :\n",
    "        print(e)\n",
    "    finally:\n",
    "        conn.close()\n",
    "id = input(\"enter your id: \")\n",
    "name = input(\"enter name for id \" + str(id) + \" \")\n",
    "connect(id=id,name=name)\n",
    "sampleNum=0\n",
    "while (True):\n",
    "    grab, img = camera.read()\n",
    "    gray_img = cv2.cvtColor(img, cv2.COLOR_BGR2GRAY)\n",
    "    faces = face_detect.detectMultiScale(gray_img,1.3,5)\n",
    "    for(x,y,w,h) in faces:\n",
    "        cv2.rectangle(img,(x,y),(x+w,y+h),(0,0,0),1)\n",
    "        cv2.imwrite('sample pics/user.'+str(id)+'.'+str(sampleNum)+'.jpg',gray_img[y:y+h,x:x+w])\n",
    "        sampleNum+=1\n",
    "        cv2.waitKey(10)\n",
    "    cv2.imshow(\"FaceDetector\",img)\n",
    "    cv2.waitKey(1)\n",
    "    if(sampleNum>20):\n",
    "        break\n",
    "camera.release()\n",
    "cv2.destroyAllWindows()\n",
    "import trainer"
   ]
  },
  {
   "cell_type": "code",
   "execution_count": null,
   "metadata": {},
   "outputs": [],
   "source": []
  },
  {
   "cell_type": "code",
   "execution_count": null,
   "metadata": {},
   "outputs": [],
   "source": []
  }
 ],
 "metadata": {
  "kernelspec": {
   "display_name": "Python 3",
   "language": "python",
   "name": "python3"
  },
  "language_info": {
   "codemirror_mode": {
    "name": "ipython",
    "version": 3
   },
   "file_extension": ".py",
   "mimetype": "text/x-python",
   "name": "python",
   "nbconvert_exporter": "python",
   "pygments_lexer": "ipython3",
   "version": "3.6.4"
  }
 },
 "nbformat": 4,
 "nbformat_minor": 2
}
